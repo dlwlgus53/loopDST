{
 "cells": [
  {
   "cell_type": "code",
   "execution_count": null,
   "metadata": {},
   "outputs": [],
   "source": [
    "\n"
   ]
  },
  {
   "cell_type": "code",
   "execution_count": 71,
   "metadata": {},
   "outputs": [],
   "source": [
    "import json\n",
    "with open(\"labeled_init.json\") as outfile:\n",
    "    init_labeled_data = json.load(outfile)\n",
    "\n",
    "with open(\"multiwoz-fine-processed-small.json\") as outfile:\n",
    "    small_data = json.load(outfile)\n",
    "\n",
    "with open(\"multiwoz-fine-processed-train.json\") as outfile:\n",
    "    train_data = json.load(outfile)"
   ]
  },
  {
   "cell_type": "code",
   "execution_count": 72,
   "metadata": {},
   "outputs": [
    {
     "data": {
      "text/plain": [
       "868"
      ]
     },
     "execution_count": 72,
     "metadata": {},
     "output_type": "execute_result"
    }
   ],
   "source": [
    "len(small_data)"
   ]
  },
  {
   "cell_type": "code",
   "execution_count": 73,
   "metadata": {},
   "outputs": [
    {
     "data": {
      "text/plain": [
       "['pmul1285',\n",
       " 'pmul0778',\n",
       " 'pmul4596',\n",
       " 'pmul4805',\n",
       " 'pmul1449',\n",
       " 'sng02230',\n",
       " 'pmul0867',\n",
       " 'mul1080',\n",
       " 'pmul2674',\n",
       " 'pmul4377']"
      ]
     },
     "execution_count": 73,
     "metadata": {},
     "output_type": "execute_result"
    }
   ],
   "source": [
    "# init_labeled_data.keys()\n",
    "small_keys = []\n",
    "for i in range(len(small_data)):\n",
    "    small_keys.append(small_data[i][0]['dial_id'])\n",
    "    small_keys = list(set(small_keys))\n",
    "small_keys[:10]\n"
   ]
  },
  {
   "cell_type": "code",
   "execution_count": 69,
   "metadata": {},
   "outputs": [],
   "source": [
    "# new_keys = []\n",
    "# for key in init_labeled_data.keys():\n",
    "#     dial_key = key.split(\"[d]\")[1].split(\"[t]\")[0]\n",
    "#     if dial_key not in small_keys and dial_key not in new_keys:\n",
    "#         new_keys.append(dial_key)\n",
    "#         for dial_list in train_data:\n",
    "#             if dial_list[0]['dial_id'] == dial_key:\n",
    "#                 small_data.append(dial_list)\n",
    "#                 break"
   ]
  },
  {
   "cell_type": "code",
   "execution_count": 78,
   "metadata": {},
   "outputs": [
    {
     "name": "stdout",
     "output_type": "stream",
     "text": [
      "5807\n"
     ]
    }
   ],
   "source": [
    "cnt = 0\n",
    "\n",
    "for dial_list in small_data:\n",
    "    # if dial_list[0]['dial_id'] not in init_labeled_key:\n",
    "    cnt += len(dial_list)\n",
    "        \n",
    "print(cnt)"
   ]
  },
  {
   "cell_type": "code",
   "execution_count": 74,
   "metadata": {},
   "outputs": [
    {
     "data": {
      "text/plain": [
       "868"
      ]
     },
     "execution_count": 74,
     "metadata": {},
     "output_type": "execute_result"
    }
   ],
   "source": [
    "len(small_data)"
   ]
  },
  {
   "cell_type": "code",
   "execution_count": 65,
   "metadata": {},
   "outputs": [],
   "source": [
    "# init_labeled_data.keys()\n",
    "init_labeled_key = []\n",
    "for key in init_labeled_data.keys():\n",
    "    dial_key = key.split(\"[d]\")[1].split(\"[t]\")[0]\n",
    "    init_labeled_key.append(dial_key)\n",
    "    init_labeled_key = list(set(init_labeled_key))"
   ]
  },
  {
   "cell_type": "code",
   "execution_count": 76,
   "metadata": {},
   "outputs": [
    {
     "data": {
      "text/plain": [
       "'pmul1285'"
      ]
     },
     "execution_count": 76,
     "metadata": {},
     "output_type": "execute_result"
    }
   ],
   "source": [
    "init_labeled_key[0]"
   ]
  },
  {
   "cell_type": "code",
   "execution_count": 68,
   "metadata": {},
   "outputs": [
    {
     "data": {
      "text/plain": [
       "5625"
      ]
     },
     "execution_count": 68,
     "metadata": {},
     "output_type": "execute_result"
    }
   ],
   "source": [
    "# len(init_labeled_key)\n",
    "len(init_labeled_data.keys())"
   ]
  },
  {
   "cell_type": "code",
   "execution_count": 61,
   "metadata": {},
   "outputs": [],
   "source": [
    "with open(\"multiwoz-fine-processed-small.json\", 'w') as outfile:\n",
    "    json.dump(small_data, outfile, indent=4)"
   ]
  },
  {
   "cell_type": "code",
   "execution_count": null,
   "metadata": {},
   "outputs": [],
   "source": []
  },
  {
   "cell_type": "code",
   "execution_count": null,
   "metadata": {},
   "outputs": [],
   "source": []
  }
 ],
 "metadata": {
  "interpreter": {
   "hash": "8fa9fe2fcb23b54c7a5cc7496447dabe292a57de3a716dccb4d4977cd8abab0a"
  },
  "kernelspec": {
   "display_name": "Python 3.9.0 ('t5_new': conda)",
   "language": "python",
   "name": "python3"
  },
  "language_info": {
   "codemirror_mode": {
    "name": "ipython",
    "version": 3
   },
   "file_extension": ".py",
   "mimetype": "text/x-python",
   "name": "python",
   "nbconvert_exporter": "python",
   "pygments_lexer": "ipython3",
   "version": "3.9.0"
  },
  "orig_nbformat": 4
 },
 "nbformat": 4,
 "nbformat_minor": 2
}
